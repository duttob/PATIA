{
 "cells": [
  {
   "cell_type": "code",
   "execution_count": 1,
   "id": "4e134c6e",
   "metadata": {},
   "outputs": [
    {
     "ename": "",
     "evalue": "",
     "output_type": "error",
     "traceback": [
      "\u001b[1;31mThe Kernel crashed while executing code in the current cell or a previous cell. \n",
      "\u001b[1;31mPlease review the code in the cell(s) to identify a possible cause of the failure. \n",
      "\u001b[1;31mClick <a href='https://aka.ms/vscodeJupyterKernelCrash'>here</a> for more info. \n",
      "\u001b[1;31mView Jupyter <a href='command:jupyter.viewOutput'>log</a> for further details."
     ]
    }
   ],
   "source": [
    "import time\n",
    "import random\n",
    "import matplotlib.pyplot as plt\n",
    "import importlib\n",
    "import taquin\n",
    "importlib.reload(taquin)\n",
    "from taquin import *\n",
    "\n",
    "P = NPuzzle(3)\n",
    "\n",
    "def bfs(puzzle, dim):\n",
    "    P.set_dimension(dim)\n",
    "    P.solve_bfs(puzzle)\n",
    "    return True\n",
    "\n",
    "def dfs(puzzle, dim):\n",
    "    P.set_dimension(dim)\n",
    "    P.solve_dfs(puzzle)\n",
    "    return True\n",
    "\n",
    "def astar(puzzle, dim):\n",
    "    P.set_dimension(dim)\n",
    "    P.solve_astar(puzzle)\n",
    "    return True\n",
    "\n",
    "def generate_puzzle(size):\n",
    "    return P.generate(size)\n",
    "\n",
    "sizes = [2, 3]\n",
    "methods = [bfs, dfs, astar]\n",
    "method_names = [\"BFS\", \"DFS\", \"ASTAR\"]\n",
    "execution_times = {method: [] for method in method_names}\n",
    "\n",
    "for size in sizes:\n",
    "    puzzle = generate_puzzle(size)\n",
    "    for method, name in zip(methods, method_names):\n",
    "        start_time = time.time()\n",
    "        method(puzzle, size)\n",
    "        end_time = time.time()\n",
    "        execution_times[name].append(end_time - start_time)\n",
    "\n",
    "for i, size in enumerate(sizes):\n",
    "    plt.figure()\n",
    "    times = [execution_times[method][i] for method in method_names]\n",
    "    plt.bar(method_names, times, color=[\"skyblue\", \"lightgreen\", \"salmon\"])\n",
    "    plt.xlabel(\"Method\")\n",
    "    plt.ylabel(\"Execution Time (s)\")\n",
    "    plt.title(f\"Execution Times for Puzzle Size {size}x{size}\")\n",
    "    plt.grid(axis='y')\n",
    "    plt.show()\n"
   ]
  },
  {
   "cell_type": "code",
   "execution_count": null,
   "id": "bde28f1c",
   "metadata": {},
   "outputs": [],
   "source": []
  }
 ],
 "metadata": {
  "kernelspec": {
   "display_name": "Python 3",
   "language": "python",
   "name": "python3"
  },
  "language_info": {
   "codemirror_mode": {
    "name": "ipython",
    "version": 3
   },
   "file_extension": ".py",
   "mimetype": "text/x-python",
   "name": "python",
   "nbconvert_exporter": "python",
   "pygments_lexer": "ipython3",
   "version": "3.10.12"
  }
 },
 "nbformat": 4,
 "nbformat_minor": 5
}
